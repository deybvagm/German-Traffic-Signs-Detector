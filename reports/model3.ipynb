{
 "cells": [
  {
   "cell_type": "markdown",
   "metadata": {
    "collapsed": true
   },
   "source": [
    "# LeNet Model\n",
    "\n",
    "This model is implemented in tensorflow with this important details: \n",
    "\n",
    "- Xavier initialization is used\n",
    "- RELU activation function is used instead of sigmoid\n",
    "- Cost is modified to deal with class imbalance\n",
    "- Data augmentation is used to improve the model's ability to learn\n",
    "- AdamOptimizer is used to minimize the cost\n",
    "- The learning rate is 0.001\n",
    "- minibatches of size 128 each are used during the training phase\n",
    "\n",
    "The model architecture in lenet is as follows:\n",
    "\n",
    "POOL -> CONV -> POOL -> CONV -> FC -> FC\n",
    "\n",
    "Where:\n",
    "\n",
    "- CONV: input volume size is 32x32x3 and out volume is 28x28x6. Each filter is of size 5x5 with a stride of 1\n",
    "- POOL: input volume size is 28x28x6 and output volume is 14x14x6. The kernel is of size 2x2\n",
    "- CONV: input volume size is 14x14x6 and output volume is 10x10x16. Each filter is of size 5x5 with a stride of 1\n",
    "- POOL: input volume size is 10x10x16 and output volume is 5x5x16. The kernel is of size 2x2\n",
    "- FC: the last volume is flattened in a 400 unidirectional vector and connected to a FC layer with 120 neurons\n",
    "- FC: The previous 120 neurons are connected to a FC layer with 84 neurons\n",
    "- To make predictions the previous layer is connected to a softmax output layer with 43 neurons corresponding to each traffic sign\n",
    "\n"
   ]
  },
  {
   "cell_type": "markdown",
   "metadata": {},
   "source": [
    "The model was trained for 200 epochs and the final accuracy was 95%. The classification report on the test data is as follows:"
   ]
  },
  {
   "cell_type": "markdown",
   "metadata": {},
   "source": [
    "             precision    recall  f1-score   support\n",
    "\n",
    "          0       0.00      0.00      0.00         1\n",
    "          1       0.94      1.00      0.97        16\n",
    "          2       0.94      1.00      0.97        15\n",
    "          3       1.00      1.00      1.00         5\n",
    "          4       1.00      1.00      1.00        17\n",
    "          5       0.91      0.91      0.91        11\n",
    "          6       1.00      1.00      1.00         5\n",
    "          7       0.90      0.90      0.90        10\n",
    "          8       1.00      0.92      0.96        12\n",
    "          9       1.00      1.00      1.00        11\n",
    "         10       1.00      1.00      1.00        19\n",
    "         11       1.00      1.00      1.00         8\n",
    "         12       1.00      1.00      1.00        15\n",
    "         13       1.00      1.00      1.00        17\n",
    "         14       0.86      1.00      0.92         6\n",
    "         15       1.00      1.00      1.00         4\n",
    "         16       1.00      1.00      1.00         1\n",
    "         17       1.00      1.00      1.00         6\n",
    "         18       1.00      1.00      1.00         7\n",
    "         19       0.00      0.00      0.00         1\n",
    "         20       1.00      1.00      1.00         1\n",
    "         21       0.00      0.00      0.00         0\n",
    "         22       1.00      1.00      1.00         1\n",
    "         23       0.88      1.00      0.93         7\n",
    "         24       0.00      0.00      0.00         1\n",
    "         25       1.00      0.86      0.92         7\n",
    "         26       1.00      1.00      1.00         2\n",
    "         28       0.75      0.60      0.67         5\n",
    "         29       0.00      0.00      0.00         0\n",
    "         30       0.50      1.00      0.67         1\n",
    "         32       1.00      1.00      1.00         1\n",
    "         33       1.00      1.00      1.00         1\n",
    "         35       1.00      1.00      1.00         2\n",
    "         36       0.67      1.00      0.80         2\n",
    "         37       1.00      1.00      1.00         1\n",
    "         38       1.00      0.93      0.97        15\n",
    "         39       1.00      1.00      1.00         2\n",
    "         40       1.00      0.67      0.80         3\n",
    "         42       1.00      1.00      1.00         4\n",
    "\n",
    "avg / total       0.95      0.95      0.95       243\n"
   ]
  }
 ],
 "metadata": {
  "kernelspec": {
   "display_name": "Python 2",
   "language": "python",
   "name": "python2"
  },
  "language_info": {
   "codemirror_mode": {
    "name": "ipython",
    "version": 2.0
   },
   "file_extension": ".py",
   "mimetype": "text/x-python",
   "name": "python",
   "nbconvert_exporter": "python",
   "pygments_lexer": "ipython2",
   "version": "2.7.6"
  }
 },
 "nbformat": 4,
 "nbformat_minor": 0
}