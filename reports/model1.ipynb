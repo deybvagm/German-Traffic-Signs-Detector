{
 "cells": [
  {
   "cell_type": "markdown",
   "metadata": {
    "collapsed": true
   },
   "source": [
    "#Linear Model in sklearn\n",
    "\n",
    "The classification report on the test data is as follows:\n"
   ]
  },
  {
   "cell_type": "markdown",
   "metadata": {},
   "source": [
    "             precision    recall  f1-score   support\n",
    "\n",
    "         01       0.94      0.83      0.88        18\n",
    "         02       0.90      0.95      0.92        19\n",
    "         03       1.00      0.75      0.86         4\n",
    "         04       0.88      0.93      0.90        15\n",
    "         05       0.58      1.00      0.74         7\n",
    "         06       1.00      1.00      1.00         1\n",
    "         07       0.80      1.00      0.89         8\n",
    "         08       0.73      0.89      0.80         9\n",
    "         09       1.00      1.00      1.00        12\n",
    "         10       1.00      0.94      0.97        18\n",
    "         11       0.89      1.00      0.94         8\n",
    "         12       0.88      0.94      0.91        16\n",
    "         13       1.00      1.00      1.00        14\n",
    "         14       1.00      1.00      1.00         6\n",
    "         15       1.00      1.00      1.00         4\n",
    "         16       1.00      1.00      1.00         2\n",
    "         17       1.00      1.00      1.00         5\n",
    "         18       0.90      0.90      0.90        10\n",
    "         20       0.75      1.00      0.86         3\n",
    "         21       0.00      0.00      0.00         1\n",
    "         22       1.00      0.50      0.67         2\n",
    "         23       1.00      0.60      0.75         5\n",
    "         24       0.00      0.00      0.00         0\n",
    "         25       0.86      0.86      0.86         7\n",
    "         26       1.00      0.67      0.80         3\n",
    "         28       1.00      1.00      1.00         3\n",
    "         29       1.00      0.50      0.67         2\n",
    "         30       1.00      1.00      1.00         2\n",
    "         32       1.00      1.00      1.00         1\n",
    "         33       1.00      0.80      0.89         5\n",
    "         34       0.00      0.00      0.00         3\n",
    "         35       1.00      1.00      1.00         6\n",
    "         36       1.00      1.00      1.00         1\n",
    "         38       0.90      0.90      0.90        20\n",
    "         39       0.00      0.00      0.00         1\n",
    "         40       1.00      1.00      1.00         1\n",
    "         42       1.00      1.00      1.00         1\n",
    "\n",
    "avg / total       0.90      0.90      0.89       243\n"
   ]
  },
  {
   "cell_type": "code",
   "execution_count": null,
   "metadata": {},
   "outputs": [],
   "source": [
    ""
   ]
  }
 ],
 "metadata": {
  "kernelspec": {
   "display_name": "Python 2",
   "language": "python",
   "name": "python2"
  },
  "language_info": {
   "codemirror_mode": {
    "name": "ipython",
    "version": 2.0
   },
   "file_extension": ".py",
   "mimetype": "text/x-python",
   "name": "python",
   "nbconvert_exporter": "python",
   "pygments_lexer": "ipython2",
   "version": "2.7.6"
  }
 },
 "nbformat": 4,
 "nbformat_minor": 0
}