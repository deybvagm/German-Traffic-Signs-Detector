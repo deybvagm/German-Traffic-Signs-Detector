{
 "cells": [
  {
   "cell_type": "markdown",
   "metadata": {},
   "source": [
    "# Softmax Linear Model\n",
    "\n",
    "Hyperparameters:\n",
    "- Adam Optimizer\n",
    "- Learning rate: 0.001\n",
    "\n",
    "This model was trained over 700 epochs and the classification report on the test data is as follows:"
   ]
  },
  {
   "cell_type": "markdown",
   "metadata": {
    "collapsed": true
   },
   "source": [
    "\t\tprecision    recall  f1-score   support\n",
    "\n",
    "          0       0.00      0.00      0.00         1\n",
    "          1       0.89      0.94      0.91        17\n",
    "          2       0.93      0.87      0.90        15\n",
    "          3       0.83      0.83      0.83         6\n",
    "          4       0.88      1.00      0.93        14\n",
    "          5       0.77      1.00      0.87        10\n",
    "          6       0.33      1.00      0.50         1\n",
    "          7       0.67      0.40      0.50         5\n",
    "          8       0.73      0.92      0.81        12\n",
    "          9       0.88      1.00      0.93         7\n",
    "         10       1.00      0.94      0.97        16\n",
    "         11       1.00      1.00      1.00         8\n",
    "         12       0.87      0.95      0.91        21\n",
    "         13       0.92      0.92      0.92        12\n",
    "         14       1.00      0.50      0.67         4\n",
    "         15       1.00      1.00      1.00         1\n",
    "         16       0.00      0.00      0.00         1\n",
    "         17       0.67      1.00      0.80         4\n",
    "         18       0.62      0.80      0.70        10\n",
    "         19       0.00      0.00      0.00         1\n",
    "         20       0.00      0.00      0.00         1\n",
    "         21       0.00      0.00      0.00         3\n",
    "         22       0.50      0.50      0.50         2\n",
    "         23       1.00      0.67      0.80         3\n",
    "         24       0.00      0.00      0.00         0\n",
    "         25       0.75      0.60      0.67         5\n",
    "         26       0.33      0.40      0.36         5\n",
    "         27       0.00      0.00      0.00         1\n",
    "         28       1.00      0.50      0.67         6\n",
    "         30       1.00      1.00      1.00         5\n",
    "         31       0.00      0.00      0.00         0\n",
    "         32       0.00      0.00      0.00         4\n",
    "         33       0.80      0.80      0.80         5\n",
    "         34       0.00      0.00      0.00         1\n",
    "         35       1.00      1.00      1.00         7\n",
    "         36       0.00      0.00      0.00         1\n",
    "         38       0.90      1.00      0.95        19\n",
    "         39       0.50      0.50      0.50         2\n",
    "         40       0.75      0.75      0.75         4\n",
    "         41       0.50      0.50      0.50         2\n",
    "         42       1.00      1.00      1.00         1\n",
    "\n",
    "avg / total       0.80      0.82      0.80       243"
   ]
  },
  {
   "cell_type": "markdown",
   "metadata": {},
   "source": [
    ""
   ]
  }
 ],
 "metadata": {
  "kernelspec": {
   "display_name": "Python 2",
   "language": "python",
   "name": "python2"
  },
  "language_info": {
   "codemirror_mode": {
    "name": "ipython",
    "version": 2.0
   },
   "file_extension": ".py",
   "mimetype": "text/x-python",
   "name": "python",
   "nbconvert_exporter": "python",
   "pygments_lexer": "ipython2",
   "version": "2.7.6"
  }
 },
 "nbformat": 4,
 "nbformat_minor": 0
}